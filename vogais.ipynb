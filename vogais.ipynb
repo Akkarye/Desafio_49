{
 "cells": [
  {
   "cell_type": "code",
   "execution_count": 1,
   "metadata": {},
   "outputs": [
    {
     "name": "stdout",
     "output_type": "stream",
     "text": [
      "Na música \"Warriors\" da banda Imagine Dragons, há um total de 307 vogais.\n"
     ]
    }
   ],
   "source": [
    "musica = \"warrior.txt\"\n",
    "cont = 0\n",
    "vogais = \"aeiou\"\n",
    "\n",
    "with open(musica, \"r\", encoding=\"utf-8\") as arquivo:\n",
    "    conteudo = arquivo.read().lower()\n",
    "    for char in conteudo:\n",
    "        if char in vogais:\n",
    "            cont += 1\n",
    "\n",
    "print(f'Na música \"Warriors\" da banda Imagine Dragons, há um total de {cont} vogais.')"
   ]
  },
  {
   "cell_type": "code",
   "execution_count": 10,
   "metadata": {},
   "outputs": [
    {
     "name": "stdout",
     "output_type": "stream",
     "text": [
      "As a child, you would wait and watch from far away\n",
      "But you always knew that you'd be the one\n",
      "That work while they all play\n",
      "\n",
      "In youth, you'd lay awake at night and scheme\n",
      "Of all the things that you would change\n",
      "But it was just a dream\n",
      "\n",
      "Here we are, don't turn away now (don't turn away)\n",
      "We are the warriors that built this town (this town)\n",
      "Here we are, don't turn away now (don't turn away)\n",
      "We are the warriors that built this town (this town)\n",
      "\n",
      "From dust\n",
      "\n",
      "\n"
     ]
    }
   ],
   "source": [
    "arquivo = open(\"warrior.txt\", \"r\", encoding=\"utf-8\")\n",
    "\n",
    "print(arquivo.read(455))\n",
    "\n",
    "arquivo.close()"
   ]
  }
 ],
 "metadata": {
  "kernelspec": {
   "display_name": "Python 3",
   "language": "python",
   "name": "python3"
  },
  "language_info": {
   "codemirror_mode": {
    "name": "ipython",
    "version": 3
   },
   "file_extension": ".py",
   "mimetype": "text/x-python",
   "name": "python",
   "nbconvert_exporter": "python",
   "pygments_lexer": "ipython3",
   "version": "3.11.4"
  },
  "orig_nbformat": 4
 },
 "nbformat": 4,
 "nbformat_minor": 2
}
